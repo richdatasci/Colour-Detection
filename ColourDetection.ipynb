{
 "cells": [
  {
   "cell_type": "markdown",
   "id": "b58fda5b",
   "metadata": {},
   "source": [
    "## Colour Detection\n",
    "<p>In this colotr detection project, I am going to build an application through which you can automatically get the name of the colour by clicking on them.</p>\n",
    "\n",
    "<p>Colours are made up of 3 primary colors; red, green, and blue. In computers, we define each color value within a range of 0 to 255. There are approximately 16.5 million different ways to represent a colour. In the dataset, I need to map each colour’s values with their corresponding names. The reference CSV file for the dataset has been taken from this link:</p>\n",
    "\n",
    "<p><a href=\"https://github.com/codebrainz/color-names/blob/master/output/colors.csv\">Colours Dataset</a></p>\n",
    "\n",
    "<p>The colors.csv file includes 865 colour names along with their RGB and hex values.</p>\n",
    "\n",
    "\n",
    "<p><img src=\"https://miro.medium.com/max/956/1*S4w84ppQkHCqCJknllEc5g.png\" alt=\"Colour detection system\"></p>\n",
    "\n",
    "\n",
    "\n",
    "## 1. Import the libraries and load data\n",
    "\n",
    "<p>OpenCV, Pandas, and numpy are the Python packages that are necessary for this project.</p>\n",
    "\n",
    "<p>\n",
    "\n",
    "\n",
    "\n",
    "\n"
   ]
  },
  {
   "cell_type": "code",
   "execution_count": null,
   "id": "71b8979e-4df2-43f9-8bef-faa67cca9124",
   "metadata": {},
   "outputs": [],
   "source": [
    "# import libraries\n",
    "import cv2\n",
    "import numpy as np\n",
    "import pandas as pd\n",
    "import argparse"
   ]
  },
  {
   "cell_type": "markdown",
   "id": "4b95b59f",
   "metadata": {},
   "source": [
    "## 2. Take an image from a user\n",
    "<p>I am using argparse library to create an argument parser. I can directly give an image path from the command prompt.</p>\n",
    "\n"
   ]
  },
  {
   "cell_type": "code",
   "execution_count": null,
   "id": "daf857fa-874c-43ba-8bdd-56616e45c9ef",
   "metadata": {},
   "outputs": [],
   "source": [
    "# Creating argument parser to take image path from command line\n",
    "ap = argparse.ArgumentParser()\n",
    "ap.add_argument('-i', '--image', required=True, help=\"Image Path\")\n",
    "args = vars(ap.parse_args())\n",
    "img_path = args['image']\n",
    "\n",
    "# reading image with opencv\n",
    "img = cv2.imread(img_path)"
   ]
  },
  {
   "cell_type": "markdown",
   "id": "22ee9e7c",
   "metadata": {},
   "source": [
    "## 3. Reading the CSV data\n",
    "<p>Read the CSV file and assigning names to each column. </p>"
   ]
  },
  {
   "cell_type": "code",
   "execution_count": null,
   "id": "4a08d48b-7578-4e15-9dff-98a89779f550",
   "metadata": {},
   "outputs": [],
   "source": [
    "# read data\n",
    "index=[\"color\",\"color_name\",\"hex\",\"R\",\"G\",\"B\"]\n",
    "csv = pd.read_csv('colors.csv', names=index, header=None)"
   ]
  },
  {
   "cell_type": "markdown",
   "id": "31f6f374",
   "metadata": {},
   "source": [
    "## 4. Set a mouse callback event on a window\n",
    "<p>The window is where the image will be displayed and then set a callback function which will call the draw_function() whenever a mouse event occurs.</p>\n",
    "  \n"
   ]
  },
  {
   "cell_type": "code",
   "execution_count": null,
   "id": "5fc86be6-2f06-4a4d-8c39-0b10ae36bc02",
   "metadata": {},
   "outputs": [],
   "source": [
    "cv2.namedWindow('Colour Detection:  Image')\n",
    "cv2.setMouseCallback('image',draw_function)\n",
    "  "
   ]
  },
  {
   "cell_type": "markdown",
   "id": "7253f4dd-1fbe-484b-bcca-12a003eb4e92",
   "metadata": {},
   "source": [
    "## 5. Create the draw_function\n",
    "<p>It will calculate the rgb values of the pixel which the user double clicks. The function parameters have the event name, (x,y) coordinates of the mouse position, etc. In the function, it checks if the event is double-clicked then it calculates and set the r,g,b values along with x,y positions of the mouse.</p>"
   ]
  },
  {
   "cell_type": "code",
   "execution_count": null,
   "id": "e9df4859-2307-40e4-9b9e-0099f117c5a1",
   "metadata": {},
   "outputs": [],
   "source": [
    "def draw_function(event, x,y,flags,param):\n",
    "    if event == cv2.EVENT_LBUTTONDBLCLK:\n",
    "        global b,g,r,xpos,ypos, clicked\n",
    "        clicked = True\n",
    "        xpos = x\n",
    "        ypos = y\n",
    "        b,g,r = img[y,x]\n",
    "        b = int(b)\n",
    "        g = int(g)\n",
    "        r = int(r)"
   ]
  },
  {
   "cell_type": "markdown",
   "id": "7f7dd726-f799-47d4-8278-ec2a0a959e26",
   "metadata": {},
   "source": [
    "## 6. Calculate the distance to produce the colour name\n",
    "<p>Another function is required which will return the colour name from RGB values. To get the color name, we calculate a distance(d) which tells us how close we are to color and choose the one having minimum distance.</p>\n",
    "\n",
    "<p>The distance is calculated by this formula:</p>\n",
    "\n",
    "<code>d = abs(Red – ithRedColor) + (Green – ithGreenColor) + (Blue – ithBlueColor)</code>"
   ]
  },
  {
   "cell_type": "code",
   "execution_count": null,
   "id": "b944f79d-9590-413e-a968-35f6df45b098",
   "metadata": {},
   "outputs": [],
   "source": [
    "def getColorName(R,G,B):\n",
    "    minimum = 10000\n",
    "    for i in range(len(csv)):\n",
    "        d = abs(R- int(csv.loc[i,\"R\"])) + abs(G- int(csv.loc[i,\"G\"]))+ abs(B- int(csv.loc[i,\"B\"]))\n",
    "        if(d<=minimum):\n",
    "            minimum = d\n",
    "            cname = csv.loc[i,\"color_name\"]\n",
    "    return cname"
   ]
  },
  {
   "cell_type": "markdown",
   "id": "b7c274da-f366-4d13-96b5-b9c8651f4bb2",
   "metadata": {},
   "source": [
    "## 7. Display image on the window\n",
    "\n",
    "<p>Whenever a double click event occurs, it will update the colour name and RGB values on the window.</p>\n",
    "\n",
    "Using the cv2.imshow() function,  it will display the image within the window. When the user double clicks the window, it draws a rectangle and gets the colour name.  We have to draw text on the window using cv2.rectangle and cv2.putText() functions."
   ]
  },
  {
   "cell_type": "code",
   "execution_count": null,
   "id": "b34fc3f1-ff79-46bd-ab41-de478c8a7959",
   "metadata": {},
   "outputs": [],
   "source": [
    "while(1):\n",
    "    cv2.imshow(\"image\",img)\n",
    "    if (clicked):\n",
    "        #cv2.rectangle(image, startpoint, endpoint, color, thickness) -1 thickness fills rectangle entirely\n",
    "        cv2.rectangle(img,(20,20), (750,60), (b,g,r), -1)\n",
    "         Creating text string to display ( Color name and RGB values )\n",
    "        text = getColorName(r,g,b) + ' R='+ str(r) + ' G='+ str(g) + ' B='+ str(b)\n",
    "        #cv2.putText(img,text,start,font(0-7), fontScale, color, thickness, lineType, (optional bottomLeft bool) )\n",
    "        cv2.putText(img, text,(50,50),2,0.8,(255,255,255),2,cv2.LINE_AA)\n",
    "  # For very light colours we will display text in black colour\n",
    "        if(r+g+b>=600):\n",
    "            cv2.putText(img, text,(50,50),2,0.8,(0,0,0),2,cv2.LINE_AA)\n",
    "        clicked=False\n",
    "    # Break the loop when user hits 'esc' key \n",
    "    if cv2.waitKey(20) & 0xFF ==27:\n",
    "        break\n",
    "cv2.destroyAllWindows()"
   ]
  },
  {
   "cell_type": "markdown",
   "id": "c66ca1ae-8ac3-48f4-aba5-fc39029c48e9",
   "metadata": {},
   "source": [
    "## 6. Running the Python file within the command prompt\n",
    "\n",
    "The program is now complete, you can run the Python file from the command prompt. Make sure to give an image path using ‘-i’ argument. If the image is in another directory, then you need to give full path of the image:\n",
    "\n",
    "<code>python color_detection.py -i \"add your image path here\"</code>\n",
    "\n",
    "<img src=\"test.PNG\">\n",
    "<img src=\"show.png\">"
   ]
  }
 ],
 "metadata": {
  "kernelspec": {
   "display_name": "Python 3 (ipykernel)",
   "language": "python",
   "name": "python3"
  },
  "language_info": {
   "codemirror_mode": {
    "name": "ipython",
    "version": 3
   },
   "file_extension": ".py",
   "mimetype": "text/x-python",
   "name": "python",
   "nbconvert_exporter": "python",
   "pygments_lexer": "ipython3",
   "version": "3.8.10"
  }
 },
 "nbformat": 4,
 "nbformat_minor": 5
}
